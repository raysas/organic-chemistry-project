{
  "nbformat": 4,
  "nbformat_minor": 0,
  "metadata": {
    "colab": {
      "provenance": []
    },
    "kernelspec": {
      "name": "python3",
      "display_name": "Python 3"
    },
    "language_info": {
      "name": "python"
    },
    "widgets": {
      "application/vnd.jupyter.widget-state+json": {
        "c2c295c3150e4529a892e9c1af42fad6": {
          "model_module": "@jupyter-widgets/output",
          "model_name": "OutputModel",
          "model_module_version": "1.0.0",
          "state": {
            "_dom_classes": [],
            "_model_module": "@jupyter-widgets/output",
            "_model_module_version": "1.0.0",
            "_model_name": "OutputModel",
            "_view_count": null,
            "_view_module": "@jupyter-widgets/output",
            "_view_module_version": "1.0.0",
            "_view_name": "OutputView",
            "layout": "IPY_MODEL_da8fa51eacda492eb03f2d5c1c4e1b2a",
            "msg_id": "",
            "outputs": [
              {
                "output_type": "display_data",
                "data": {
                  "text/plain": "<PIL.PngImagePlugin.PngImageFile image mode=RGB size=300x300 at 0x7F53F19DD510>",
                  "image/png": "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\n"
                },
                "metadata": {}
              }
            ]
          }
        },
        "da8fa51eacda492eb03f2d5c1c4e1b2a": {
          "model_module": "@jupyter-widgets/base",
          "model_name": "LayoutModel",
          "model_module_version": "1.2.0",
          "state": {
            "_model_module": "@jupyter-widgets/base",
            "_model_module_version": "1.2.0",
            "_model_name": "LayoutModel",
            "_view_count": null,
            "_view_module": "@jupyter-widgets/base",
            "_view_module_version": "1.2.0",
            "_view_name": "LayoutView",
            "align_content": null,
            "align_items": null,
            "align_self": null,
            "border": null,
            "bottom": null,
            "display": null,
            "flex": null,
            "flex_flow": null,
            "grid_area": null,
            "grid_auto_columns": null,
            "grid_auto_flow": null,
            "grid_auto_rows": null,
            "grid_column": null,
            "grid_gap": null,
            "grid_row": null,
            "grid_template_areas": null,
            "grid_template_columns": null,
            "grid_template_rows": null,
            "height": null,
            "justify_content": null,
            "justify_items": null,
            "left": null,
            "margin": null,
            "max_height": null,
            "max_width": null,
            "min_height": null,
            "min_width": null,
            "object_fit": null,
            "object_position": null,
            "order": null,
            "overflow": null,
            "overflow_x": null,
            "overflow_y": null,
            "padding": null,
            "right": null,
            "top": null,
            "visibility": null,
            "width": null
          }
        },
        "ed67ea2e368d4fd38078872087aab9d9": {
          "model_module": "@jupyter-widgets/controls",
          "model_name": "TextModel",
          "model_module_version": "1.5.0",
          "state": {
            "_dom_classes": [],
            "_model_module": "@jupyter-widgets/controls",
            "_model_module_version": "1.5.0",
            "_model_name": "TextModel",
            "_view_count": null,
            "_view_module": "@jupyter-widgets/controls",
            "_view_module_version": "1.5.0",
            "_view_name": "TextView",
            "continuous_update": true,
            "description": "IUPAC Name",
            "description_tooltip": null,
            "disabled": false,
            "layout": "IPY_MODEL_253cce1a2026495da2b2d27b22879455",
            "placeholder": "​",
            "style": "IPY_MODEL_0ff1a5bca4f74bb9bcadc6e21c8c4ca5",
            "value": ""
          }
        },
        "253cce1a2026495da2b2d27b22879455": {
          "model_module": "@jupyter-widgets/base",
          "model_name": "LayoutModel",
          "model_module_version": "1.2.0",
          "state": {
            "_model_module": "@jupyter-widgets/base",
            "_model_module_version": "1.2.0",
            "_model_name": "LayoutModel",
            "_view_count": null,
            "_view_module": "@jupyter-widgets/base",
            "_view_module_version": "1.2.0",
            "_view_name": "LayoutView",
            "align_content": null,
            "align_items": null,
            "align_self": null,
            "border": null,
            "bottom": null,
            "display": null,
            "flex": null,
            "flex_flow": null,
            "grid_area": null,
            "grid_auto_columns": null,
            "grid_auto_flow": null,
            "grid_auto_rows": null,
            "grid_column": null,
            "grid_gap": null,
            "grid_row": null,
            "grid_template_areas": null,
            "grid_template_columns": null,
            "grid_template_rows": null,
            "height": null,
            "justify_content": null,
            "justify_items": null,
            "left": null,
            "margin": null,
            "max_height": null,
            "max_width": null,
            "min_height": null,
            "min_width": null,
            "object_fit": null,
            "object_position": null,
            "order": null,
            "overflow": null,
            "overflow_x": null,
            "overflow_y": null,
            "padding": null,
            "right": null,
            "top": null,
            "visibility": null,
            "width": null
          }
        },
        "0ff1a5bca4f74bb9bcadc6e21c8c4ca5": {
          "model_module": "@jupyter-widgets/controls",
          "model_name": "DescriptionStyleModel",
          "model_module_version": "1.5.0",
          "state": {
            "_model_module": "@jupyter-widgets/controls",
            "_model_module_version": "1.5.0",
            "_model_name": "DescriptionStyleModel",
            "_view_count": null,
            "_view_module": "@jupyter-widgets/base",
            "_view_module_version": "1.2.0",
            "_view_name": "StyleView",
            "description_width": ""
          }
        },
        "662223b8c28a44d0a91fb89c93cf2d17": {
          "model_module": "@jupyter-widgets/controls",
          "model_name": "ButtonModel",
          "model_module_version": "1.5.0",
          "state": {
            "_dom_classes": [],
            "_model_module": "@jupyter-widgets/controls",
            "_model_module_version": "1.5.0",
            "_model_name": "ButtonModel",
            "_view_count": null,
            "_view_module": "@jupyter-widgets/controls",
            "_view_module_version": "1.5.0",
            "_view_name": "ButtonView",
            "button_style": "",
            "description": "Draw",
            "disabled": false,
            "icon": "",
            "layout": "IPY_MODEL_3719c401379a49b5aea197f41280511a",
            "style": "IPY_MODEL_ce0fe45f27cc4087bedade33920fdc0f",
            "tooltip": ""
          }
        },
        "3719c401379a49b5aea197f41280511a": {
          "model_module": "@jupyter-widgets/base",
          "model_name": "LayoutModel",
          "model_module_version": "1.2.0",
          "state": {
            "_model_module": "@jupyter-widgets/base",
            "_model_module_version": "1.2.0",
            "_model_name": "LayoutModel",
            "_view_count": null,
            "_view_module": "@jupyter-widgets/base",
            "_view_module_version": "1.2.0",
            "_view_name": "LayoutView",
            "align_content": null,
            "align_items": null,
            "align_self": null,
            "border": null,
            "bottom": null,
            "display": null,
            "flex": null,
            "flex_flow": null,
            "grid_area": null,
            "grid_auto_columns": null,
            "grid_auto_flow": null,
            "grid_auto_rows": null,
            "grid_column": null,
            "grid_gap": null,
            "grid_row": null,
            "grid_template_areas": null,
            "grid_template_columns": null,
            "grid_template_rows": null,
            "height": null,
            "justify_content": null,
            "justify_items": null,
            "left": null,
            "margin": null,
            "max_height": null,
            "max_width": null,
            "min_height": null,
            "min_width": null,
            "object_fit": null,
            "object_position": null,
            "order": null,
            "overflow": null,
            "overflow_x": null,
            "overflow_y": null,
            "padding": null,
            "right": null,
            "top": null,
            "visibility": null,
            "width": null
          }
        },
        "ce0fe45f27cc4087bedade33920fdc0f": {
          "model_module": "@jupyter-widgets/controls",
          "model_name": "ButtonStyleModel",
          "model_module_version": "1.5.0",
          "state": {
            "_model_module": "@jupyter-widgets/controls",
            "_model_module_version": "1.5.0",
            "_model_name": "ButtonStyleModel",
            "_view_count": null,
            "_view_module": "@jupyter-widgets/base",
            "_view_module_version": "1.2.0",
            "_view_name": "StyleView",
            "button_color": null,
            "font_weight": ""
          }
        },
        "bb4be46a59fc4d81b08102e444e3741c": {
          "model_module": "@jupyter-widgets/controls",
          "model_name": "ButtonModel",
          "model_module_version": "1.5.0",
          "state": {
            "_dom_classes": [],
            "_model_module": "@jupyter-widgets/controls",
            "_model_module_version": "1.5.0",
            "_model_name": "ButtonModel",
            "_view_count": null,
            "_view_module": "@jupyter-widgets/controls",
            "_view_module_version": "1.5.0",
            "_view_name": "ButtonView",
            "button_style": "",
            "description": "Save",
            "disabled": false,
            "icon": "",
            "layout": "IPY_MODEL_e18ab6bf447c4630b4b86a89f5caddae",
            "style": "IPY_MODEL_0f07bff874904be3b90c22acbed0663c",
            "tooltip": ""
          }
        },
        "e18ab6bf447c4630b4b86a89f5caddae": {
          "model_module": "@jupyter-widgets/base",
          "model_name": "LayoutModel",
          "model_module_version": "1.2.0",
          "state": {
            "_model_module": "@jupyter-widgets/base",
            "_model_module_version": "1.2.0",
            "_model_name": "LayoutModel",
            "_view_count": null,
            "_view_module": "@jupyter-widgets/base",
            "_view_module_version": "1.2.0",
            "_view_name": "LayoutView",
            "align_content": null,
            "align_items": null,
            "align_self": null,
            "border": null,
            "bottom": null,
            "display": null,
            "flex": null,
            "flex_flow": null,
            "grid_area": null,
            "grid_auto_columns": null,
            "grid_auto_flow": null,
            "grid_auto_rows": null,
            "grid_column": null,
            "grid_gap": null,
            "grid_row": null,
            "grid_template_areas": null,
            "grid_template_columns": null,
            "grid_template_rows": null,
            "height": null,
            "justify_content": null,
            "justify_items": null,
            "left": null,
            "margin": null,
            "max_height": null,
            "max_width": null,
            "min_height": null,
            "min_width": null,
            "object_fit": null,
            "object_position": null,
            "order": null,
            "overflow": null,
            "overflow_x": null,
            "overflow_y": null,
            "padding": null,
            "right": null,
            "top": null,
            "visibility": null,
            "width": null
          }
        },
        "0f07bff874904be3b90c22acbed0663c": {
          "model_module": "@jupyter-widgets/controls",
          "model_name": "ButtonStyleModel",
          "model_module_version": "1.5.0",
          "state": {
            "_model_module": "@jupyter-widgets/controls",
            "_model_module_version": "1.5.0",
            "_model_name": "ButtonStyleModel",
            "_view_count": null,
            "_view_module": "@jupyter-widgets/base",
            "_view_module_version": "1.2.0",
            "_view_name": "StyleView",
            "button_color": null,
            "font_weight": ""
          }
        }
      }
    }
  },
  "cells": [
    {
      "cell_type": "markdown",
      "source": [
        "# Organic Chemistry Project\n"
      ],
      "metadata": {
        "id": "SdnvCMMHpBdL"
      }
    },
    {
      "cell_type": "markdown",
      "source": [
        "## Initialization\n",
        "\n",
        "_please run this cell to make the program run-able_ (click on the run button)"
      ],
      "metadata": {
        "id": "PhgFcc_9peqf"
      }
    },
    {
      "cell_type": "code",
      "execution_count": 11,
      "metadata": {
        "colab": {
          "base_uri": "https://localhost:8080/"
        },
        "id": "IY-F31RIo69Z",
        "outputId": "09ed27bf-1d06-486a-d1aa-0e2d22ec28af"
      },
      "outputs": [
        {
          "output_type": "stream",
          "name": "stdout",
          "text": [
            "\n",
            "Welcome to organic chemistry project v1.4 (prior versions had bugs...)\n",
            "\n"
          ]
        }
      ],
      "source": [
        "!pip install rdkit --quiet\n",
        "!pip install pubchempy --quiet\n",
        "!pip install rdkit --quiet\n",
        "!pip install ipywidgets --quiet\n",
        "from tkinter import *\n",
        "from PIL import ImageTk, Image\n",
        "from rdkit import Chem\n",
        "from rdkit.Chem import Draw\n",
        "from ipywidgets import interact, interactive, fixed, interact_manual\n",
        "import ipywidgets as widgets\n",
        "import requests\n",
        "import pubchempy as pcp\n",
        "\n",
        "def name_to_smiles(iupac_name):\n",
        "    results = pcp.get_compounds(iupac_name, 'name')\n",
        "    if results:\n",
        "        cid = results[0].cid\n",
        "        api_url = f\"https://pubchem.ncbi.nlm.nih.gov/rest/pug/compound/cid/{cid}/property/CanonicalSMILES/json\"\n",
        "        json_obj = requests.get(api_url).json()\n",
        "        return json_obj['PropertyTable']['Properties'][0]['CanonicalSMILES']\n",
        "    else:\n",
        "        print(\"Please enter a valid IUPAC name in the correct format\")\n",
        "        return None\n",
        "\n",
        "\n",
        "class MoleculeDrawer:\n",
        "    def __init__(self):\n",
        "        self.canvas = widgets.Output()\n",
        "        display(self.canvas)\n",
        "        self.nomenclature_input = widgets.Text(description=\"IUPAC Name\")\n",
        "        display(self.nomenclature_input)\n",
        "        self.draw_button = widgets.Button(description=\"Draw\")\n",
        "        self.draw_button.on_click(self.draw_molecule)\n",
        "        display(self.draw_button)\n",
        "        self.save_button = widgets.Button(description=\"Save\")\n",
        "        self.save_button.on_click(self.save_molecule)\n",
        "        display(self.save_button)\n",
        "        self.mol = None\n",
        "\n",
        "    def draw_molecule(self, b):\n",
        "        with self.canvas:\n",
        "            self.canvas.clear_output(wait=True)\n",
        "            nomenclature = self.nomenclature_input.value\n",
        "            smiles = name_to_smiles(nomenclature)\n",
        "            if smiles is not None:\n",
        "                mol = Chem.MolFromSmiles(smiles)\n",
        "                if mol is not None:\n",
        "                    img = Draw.MolToImage(mol)\n",
        "                    display(img)\n",
        "                    self.mol = mol\n",
        "                else:\n",
        "                    print(\"Invalid SMILES string\")\n",
        "                    self.mol = None\n",
        "            else:\n",
        "                self.mol = None\n",
        "\n",
        "    def save_molecule(self, b):\n",
        "        if self.mol is not None:\n",
        "            filename = self.nomenclature_input.value + \".png\"\n",
        "            Draw.MolToFile(self.mol, filename)\n",
        "            print(f\"Saved molecule as {filename}\")\n",
        "        else:\n",
        "            print(\"No molecule to save\")\n",
        "\n",
        "\n",
        "print('''\n",
        "Welcome to organic chemistry project v1.4 (prior versions had bugs...)\n",
        "''')"
      ]
    },
    {
      "cell_type": "markdown",
      "source": [
        "## Running the program"
      ],
      "metadata": {
        "id": "VFft1p2Ep_Hy"
      }
    },
    {
      "cell_type": "code",
      "source": [
        "molecule_drawer = MoleculeDrawer()"
      ],
      "metadata": {
        "colab": {
          "base_uri": "https://localhost:8080/",
          "height": 413,
          "referenced_widgets": [
            "c2c295c3150e4529a892e9c1af42fad6",
            "da8fa51eacda492eb03f2d5c1c4e1b2a",
            "ed67ea2e368d4fd38078872087aab9d9",
            "253cce1a2026495da2b2d27b22879455",
            "0ff1a5bca4f74bb9bcadc6e21c8c4ca5",
            "662223b8c28a44d0a91fb89c93cf2d17",
            "3719c401379a49b5aea197f41280511a",
            "ce0fe45f27cc4087bedade33920fdc0f",
            "bb4be46a59fc4d81b08102e444e3741c",
            "e18ab6bf447c4630b4b86a89f5caddae",
            "0f07bff874904be3b90c22acbed0663c"
          ]
        },
        "id": "OScj1OjKp9x4",
        "outputId": "02fa2f02-9699-45aa-8b1a-c55616dd62a8"
      },
      "execution_count": 12,
      "outputs": [
        {
          "output_type": "display_data",
          "data": {
            "text/plain": [
              "Output()"
            ],
            "application/vnd.jupyter.widget-view+json": {
              "version_major": 2,
              "version_minor": 0,
              "model_id": "c2c295c3150e4529a892e9c1af42fad6"
            }
          },
          "metadata": {}
        },
        {
          "output_type": "display_data",
          "data": {
            "text/plain": [
              "Text(value='', description='IUPAC Name')"
            ],
            "application/vnd.jupyter.widget-view+json": {
              "version_major": 2,
              "version_minor": 0,
              "model_id": "ed67ea2e368d4fd38078872087aab9d9"
            }
          },
          "metadata": {}
        },
        {
          "output_type": "display_data",
          "data": {
            "text/plain": [
              "Button(description='Draw', style=ButtonStyle())"
            ],
            "application/vnd.jupyter.widget-view+json": {
              "version_major": 2,
              "version_minor": 0,
              "model_id": "662223b8c28a44d0a91fb89c93cf2d17"
            }
          },
          "metadata": {}
        },
        {
          "output_type": "display_data",
          "data": {
            "text/plain": [
              "Button(description='Save', style=ButtonStyle())"
            ],
            "application/vnd.jupyter.widget-view+json": {
              "version_major": 2,
              "version_minor": 0,
              "model_id": "bb4be46a59fc4d81b08102e444e3741c"
            }
          },
          "metadata": {}
        }
      ]
    }
  ]
}