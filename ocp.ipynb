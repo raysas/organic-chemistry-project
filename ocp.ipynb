{
  "nbformat": 4,
  "nbformat_minor": 0,
  "metadata": {
    "colab": {
      "provenance": []
    },
    "kernelspec": {
      "name": "python3",
      "display_name": "Python 3"
    },
    "language_info": {
      "name": "python"
    },
    "widgets": {
      "application/vnd.jupyter.widget-state+json": {
        "54934c22da434f5fbca160281abac2bf": {
          "model_module": "@jupyter-widgets/output",
          "model_name": "OutputModel",
          "model_module_version": "1.0.0",
          "state": {
            "_dom_classes": [],
            "_model_module": "@jupyter-widgets/output",
            "_model_module_version": "1.0.0",
            "_model_name": "OutputModel",
            "_view_count": null,
            "_view_module": "@jupyter-widgets/output",
            "_view_module_version": "1.0.0",
            "_view_name": "OutputView",
            "layout": "IPY_MODEL_a9dc8891c3f44829bbb4c95f2f10f8e4",
            "msg_id": "",
            "outputs": []
          }
        },
        "a9dc8891c3f44829bbb4c95f2f10f8e4": {
          "model_module": "@jupyter-widgets/base",
          "model_name": "LayoutModel",
          "model_module_version": "1.2.0",
          "state": {
            "_model_module": "@jupyter-widgets/base",
            "_model_module_version": "1.2.0",
            "_model_name": "LayoutModel",
            "_view_count": null,
            "_view_module": "@jupyter-widgets/base",
            "_view_module_version": "1.2.0",
            "_view_name": "LayoutView",
            "align_content": null,
            "align_items": null,
            "align_self": null,
            "border": null,
            "bottom": null,
            "display": null,
            "flex": null,
            "flex_flow": null,
            "grid_area": null,
            "grid_auto_columns": null,
            "grid_auto_flow": null,
            "grid_auto_rows": null,
            "grid_column": null,
            "grid_gap": null,
            "grid_row": null,
            "grid_template_areas": null,
            "grid_template_columns": null,
            "grid_template_rows": null,
            "height": null,
            "justify_content": null,
            "justify_items": null,
            "left": null,
            "margin": null,
            "max_height": null,
            "max_width": null,
            "min_height": null,
            "min_width": null,
            "object_fit": null,
            "object_position": null,
            "order": null,
            "overflow": null,
            "overflow_x": null,
            "overflow_y": null,
            "padding": null,
            "right": null,
            "top": null,
            "visibility": null,
            "width": null
          }
        },
        "be2b5c7fc21248dda3a2422fcbccc31a": {
          "model_module": "@jupyter-widgets/controls",
          "model_name": "TextModel",
          "model_module_version": "1.5.0",
          "state": {
            "_dom_classes": [],
            "_model_module": "@jupyter-widgets/controls",
            "_model_module_version": "1.5.0",
            "_model_name": "TextModel",
            "_view_count": null,
            "_view_module": "@jupyter-widgets/controls",
            "_view_module_version": "1.5.0",
            "_view_name": "TextView",
            "continuous_update": true,
            "description": "IUPAC Name",
            "description_tooltip": null,
            "disabled": false,
            "layout": "IPY_MODEL_7e4531177b9e4b91862d02df9cf159a2",
            "placeholder": "​",
            "style": "IPY_MODEL_08cfe228a68b42b7b2d0e1d5a9de05ad",
            "value": ""
          }
        },
        "7e4531177b9e4b91862d02df9cf159a2": {
          "model_module": "@jupyter-widgets/base",
          "model_name": "LayoutModel",
          "model_module_version": "1.2.0",
          "state": {
            "_model_module": "@jupyter-widgets/base",
            "_model_module_version": "1.2.0",
            "_model_name": "LayoutModel",
            "_view_count": null,
            "_view_module": "@jupyter-widgets/base",
            "_view_module_version": "1.2.0",
            "_view_name": "LayoutView",
            "align_content": null,
            "align_items": null,
            "align_self": null,
            "border": null,
            "bottom": null,
            "display": null,
            "flex": null,
            "flex_flow": null,
            "grid_area": null,
            "grid_auto_columns": null,
            "grid_auto_flow": null,
            "grid_auto_rows": null,
            "grid_column": null,
            "grid_gap": null,
            "grid_row": null,
            "grid_template_areas": null,
            "grid_template_columns": null,
            "grid_template_rows": null,
            "height": null,
            "justify_content": null,
            "justify_items": null,
            "left": null,
            "margin": null,
            "max_height": null,
            "max_width": null,
            "min_height": null,
            "min_width": null,
            "object_fit": null,
            "object_position": null,
            "order": null,
            "overflow": null,
            "overflow_x": null,
            "overflow_y": null,
            "padding": null,
            "right": null,
            "top": null,
            "visibility": null,
            "width": null
          }
        },
        "08cfe228a68b42b7b2d0e1d5a9de05ad": {
          "model_module": "@jupyter-widgets/controls",
          "model_name": "DescriptionStyleModel",
          "model_module_version": "1.5.0",
          "state": {
            "_model_module": "@jupyter-widgets/controls",
            "_model_module_version": "1.5.0",
            "_model_name": "DescriptionStyleModel",
            "_view_count": null,
            "_view_module": "@jupyter-widgets/base",
            "_view_module_version": "1.2.0",
            "_view_name": "StyleView",
            "description_width": ""
          }
        },
        "725787a708964239838660b7a6710a06": {
          "model_module": "@jupyter-widgets/controls",
          "model_name": "ButtonModel",
          "model_module_version": "1.5.0",
          "state": {
            "_dom_classes": [],
            "_model_module": "@jupyter-widgets/controls",
            "_model_module_version": "1.5.0",
            "_model_name": "ButtonModel",
            "_view_count": null,
            "_view_module": "@jupyter-widgets/controls",
            "_view_module_version": "1.5.0",
            "_view_name": "ButtonView",
            "button_style": "",
            "description": "Draw",
            "disabled": false,
            "icon": "",
            "layout": "IPY_MODEL_c734498fdf344d059396bd704ca3d0b7",
            "style": "IPY_MODEL_03337e56de574f5b9e9b63045d15207d",
            "tooltip": ""
          }
        },
        "c734498fdf344d059396bd704ca3d0b7": {
          "model_module": "@jupyter-widgets/base",
          "model_name": "LayoutModel",
          "model_module_version": "1.2.0",
          "state": {
            "_model_module": "@jupyter-widgets/base",
            "_model_module_version": "1.2.0",
            "_model_name": "LayoutModel",
            "_view_count": null,
            "_view_module": "@jupyter-widgets/base",
            "_view_module_version": "1.2.0",
            "_view_name": "LayoutView",
            "align_content": null,
            "align_items": null,
            "align_self": null,
            "border": null,
            "bottom": null,
            "display": null,
            "flex": null,
            "flex_flow": null,
            "grid_area": null,
            "grid_auto_columns": null,
            "grid_auto_flow": null,
            "grid_auto_rows": null,
            "grid_column": null,
            "grid_gap": null,
            "grid_row": null,
            "grid_template_areas": null,
            "grid_template_columns": null,
            "grid_template_rows": null,
            "height": null,
            "justify_content": null,
            "justify_items": null,
            "left": null,
            "margin": null,
            "max_height": null,
            "max_width": null,
            "min_height": null,
            "min_width": null,
            "object_fit": null,
            "object_position": null,
            "order": null,
            "overflow": null,
            "overflow_x": null,
            "overflow_y": null,
            "padding": null,
            "right": null,
            "top": null,
            "visibility": null,
            "width": null
          }
        },
        "03337e56de574f5b9e9b63045d15207d": {
          "model_module": "@jupyter-widgets/controls",
          "model_name": "ButtonStyleModel",
          "model_module_version": "1.5.0",
          "state": {
            "_model_module": "@jupyter-widgets/controls",
            "_model_module_version": "1.5.0",
            "_model_name": "ButtonStyleModel",
            "_view_count": null,
            "_view_module": "@jupyter-widgets/base",
            "_view_module_version": "1.2.0",
            "_view_name": "StyleView",
            "button_color": null,
            "font_weight": ""
          }
        },
        "3dfd67f7e41a46959ab4e70139e894ec": {
          "model_module": "@jupyter-widgets/controls",
          "model_name": "ButtonModel",
          "model_module_version": "1.5.0",
          "state": {
            "_dom_classes": [],
            "_model_module": "@jupyter-widgets/controls",
            "_model_module_version": "1.5.0",
            "_model_name": "ButtonModel",
            "_view_count": null,
            "_view_module": "@jupyter-widgets/controls",
            "_view_module_version": "1.5.0",
            "_view_name": "ButtonView",
            "button_style": "",
            "description": "Save",
            "disabled": false,
            "icon": "",
            "layout": "IPY_MODEL_f6a721fd9d6e4f698f3f9f535aa6c9a1",
            "style": "IPY_MODEL_a0b1e4a83c254d75acb3d67b0bc59fb7",
            "tooltip": ""
          }
        },
        "f6a721fd9d6e4f698f3f9f535aa6c9a1": {
          "model_module": "@jupyter-widgets/base",
          "model_name": "LayoutModel",
          "model_module_version": "1.2.0",
          "state": {
            "_model_module": "@jupyter-widgets/base",
            "_model_module_version": "1.2.0",
            "_model_name": "LayoutModel",
            "_view_count": null,
            "_view_module": "@jupyter-widgets/base",
            "_view_module_version": "1.2.0",
            "_view_name": "LayoutView",
            "align_content": null,
            "align_items": null,
            "align_self": null,
            "border": null,
            "bottom": null,
            "display": null,
            "flex": null,
            "flex_flow": null,
            "grid_area": null,
            "grid_auto_columns": null,
            "grid_auto_flow": null,
            "grid_auto_rows": null,
            "grid_column": null,
            "grid_gap": null,
            "grid_row": null,
            "grid_template_areas": null,
            "grid_template_columns": null,
            "grid_template_rows": null,
            "height": null,
            "justify_content": null,
            "justify_items": null,
            "left": null,
            "margin": null,
            "max_height": null,
            "max_width": null,
            "min_height": null,
            "min_width": null,
            "object_fit": null,
            "object_position": null,
            "order": null,
            "overflow": null,
            "overflow_x": null,
            "overflow_y": null,
            "padding": null,
            "right": null,
            "top": null,
            "visibility": null,
            "width": null
          }
        },
        "a0b1e4a83c254d75acb3d67b0bc59fb7": {
          "model_module": "@jupyter-widgets/controls",
          "model_name": "ButtonStyleModel",
          "model_module_version": "1.5.0",
          "state": {
            "_model_module": "@jupyter-widgets/controls",
            "_model_module_version": "1.5.0",
            "_model_name": "ButtonStyleModel",
            "_view_count": null,
            "_view_module": "@jupyter-widgets/base",
            "_view_module_version": "1.2.0",
            "_view_name": "StyleView",
            "button_color": null,
            "font_weight": ""
          }
        }
      }
    }
  },
  "cells": [
    {
      "cell_type": "markdown",
      "source": [
        "# Organic Chemistry Project\n"
      ],
      "metadata": {
        "id": "SdnvCMMHpBdL"
      }
    },
    {
      "cell_type": "markdown",
      "source": [
        "## Initialization\n",
        "\n",
        "_This is the code, expand to take a look at it_ (click on the run button)"
      ],
      "metadata": {
        "id": "PhgFcc_9peqf"
      }
    },
    {
      "cell_type": "code",
      "execution_count": 1,
      "metadata": {
        "id": "IY-F31RIo69Z"
      },
      "outputs": [],
      "source": [
        "!pip install rdkit --quiet\n",
        "!pip install pubchempy --quiet\n",
        "!pip install rdkit --quiet\n",
        "!pip install ipywidgets --quiet\n",
        "from tkinter import *\n",
        "from PIL import ImageTk, Image\n",
        "from rdkit import Chem\n",
        "from rdkit.Chem import Draw\n",
        "from ipywidgets import interact, interactive, fixed, interact_manual\n",
        "import ipywidgets as widgets\n",
        "import requests\n",
        "import pubchempy as pcp\n",
        "\n",
        "def name_to_smiles(iupac_name):\n",
        "    results = pcp.get_compounds(iupac_name, 'name')\n",
        "    if results:\n",
        "        cid = results[0].cid\n",
        "        api_url = f\"https://pubchem.ncbi.nlm.nih.gov/rest/pug/compound/cid/{cid}/property/CanonicalSMILES/json\"\n",
        "        json_obj = requests.get(api_url).json()\n",
        "        return json_obj['PropertyTable']['Properties'][0]['CanonicalSMILES']\n",
        "    else:\n",
        "        print(\"Please enter a valid IUPAC name in the correct format\")\n",
        "        return None\n",
        "\n",
        "\n",
        "class MoleculeDrawer:\n",
        "    def __init__(self):\n",
        "        self.canvas = widgets.Output()\n",
        "        display(self.canvas)\n",
        "        self.nomenclature_input = widgets.Text(description=\"IUPAC Name\")\n",
        "        display(self.nomenclature_input)\n",
        "        self.draw_button = widgets.Button(description=\"Draw\")\n",
        "        self.draw_button.on_click(self.draw_molecule)\n",
        "        display(self.draw_button)\n",
        "        self.save_button = widgets.Button(description=\"Save\")\n",
        "        self.save_button.on_click(self.save_molecule)\n",
        "        display(self.save_button)\n",
        "        self.mol = None\n",
        "\n",
        "    def draw_molecule(self, b):\n",
        "        with self.canvas:\n",
        "            self.canvas.clear_output(wait=True)\n",
        "            nomenclature = self.nomenclature_input.value\n",
        "            smiles = name_to_smiles(nomenclature)\n",
        "            if smiles is not None:\n",
        "                mol = Chem.MolFromSmiles(smiles)\n",
        "                if mol is not None:\n",
        "                    img = Draw.MolToImage(mol)\n",
        "                    display(img)\n",
        "                    self.mol = mol\n",
        "                else:\n",
        "                    print(\"Invalid SMILES string\")\n",
        "                    self.mol = None\n",
        "            else:\n",
        "                self.mol = None\n",
        "\n",
        "    def save_molecule(self, b):\n",
        "        if self.mol is not None:\n",
        "            filename = self.nomenclature_input.value + \".png\"\n",
        "            Draw.MolToFile(self.mol, filename)\n",
        "            print(f\"Saved molecule as {filename}\")\n",
        "        else:\n",
        "            print(\"No molecule to save\")\n",
        "\n",
        "\n",
        "# print('''\n",
        "# Welcome to organic chemistry project v1.4 (prior versions had bugs...)!\n",
        "# All you need to do is run the next cell, and provide an iupac name where specified.\n",
        "# Please make sure you include no spaces in the IUPAC nomenclature when you're not required to according to the IUPAC rules, \n",
        "#   provide dashes (-) when needed and put nested substituents in parentheses ()\n",
        "# e.g., 2-(2-hydroxybenzoyl)oxybenzoic acid, 2-acetyloxybenzoic acid, N-(4-hydroxyphenyl)acetamide\n",
        "# ''')"
      ]
    },
    {
      "cell_type": "markdown",
      "source": [
        "## Running the program\n",
        "\n",
        "Welcome to **Organic Chemistry Project**!  \n",
        "\n",
        "All you need to do is run the next cell, and provide an iupac name where specified.  \n",
        "Please make sure you include **no spaces in the IUPAC nomenclature when you're not required to according to the IUPAC rules**,\n",
        "  **provide dashes - when needed** and **put nested substituents in parentheses ()**  \n",
        "\n",
        "_e.g., 2-(2-hydroxybenzoyl)oxybenzoic acid, 2-acetyloxybenzoic acid, N-(4-hydroxyphenyl)acetamide_"
      ],
      "metadata": {
        "id": "VFft1p2Ep_Hy"
      }
    },
    {
      "cell_type": "code",
      "source": [
        "molecule_drawer = MoleculeDrawer()"
      ],
      "metadata": {
        "colab": {
          "base_uri": "https://localhost:8080/",
          "height": 113,
          "referenced_widgets": [
            "54934c22da434f5fbca160281abac2bf",
            "a9dc8891c3f44829bbb4c95f2f10f8e4",
            "be2b5c7fc21248dda3a2422fcbccc31a",
            "7e4531177b9e4b91862d02df9cf159a2",
            "08cfe228a68b42b7b2d0e1d5a9de05ad",
            "725787a708964239838660b7a6710a06",
            "c734498fdf344d059396bd704ca3d0b7",
            "03337e56de574f5b9e9b63045d15207d",
            "3dfd67f7e41a46959ab4e70139e894ec",
            "f6a721fd9d6e4f698f3f9f535aa6c9a1",
            "a0b1e4a83c254d75acb3d67b0bc59fb7"
          ]
        },
        "id": "OScj1OjKp9x4",
        "outputId": "10e9f00e-5f43-4ec4-986d-18a790f12ef9"
      },
      "execution_count": 2,
      "outputs": [
        {
          "output_type": "display_data",
          "data": {
            "text/plain": [
              "Output()"
            ],
            "application/vnd.jupyter.widget-view+json": {
              "version_major": 2,
              "version_minor": 0,
              "model_id": "54934c22da434f5fbca160281abac2bf"
            }
          },
          "metadata": {}
        },
        {
          "output_type": "display_data",
          "data": {
            "text/plain": [
              "Text(value='', description='IUPAC Name')"
            ],
            "application/vnd.jupyter.widget-view+json": {
              "version_major": 2,
              "version_minor": 0,
              "model_id": "be2b5c7fc21248dda3a2422fcbccc31a"
            }
          },
          "metadata": {}
        },
        {
          "output_type": "display_data",
          "data": {
            "text/plain": [
              "Button(description='Draw', style=ButtonStyle())"
            ],
            "application/vnd.jupyter.widget-view+json": {
              "version_major": 2,
              "version_minor": 0,
              "model_id": "725787a708964239838660b7a6710a06"
            }
          },
          "metadata": {}
        },
        {
          "output_type": "display_data",
          "data": {
            "text/plain": [
              "Button(description='Save', style=ButtonStyle())"
            ],
            "application/vnd.jupyter.widget-view+json": {
              "version_major": 2,
              "version_minor": 0,
              "model_id": "3dfd67f7e41a46959ab4e70139e894ec"
            }
          },
          "metadata": {}
        }
      ]
    },
    {
      "cell_type": "markdown",
      "source": [],
      "metadata": {
        "id": "DY4vyZsoLiIM"
      }
    }
  ]
}